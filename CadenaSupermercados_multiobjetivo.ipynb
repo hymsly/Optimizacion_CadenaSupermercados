{
 "cells": [
  {
   "cell_type": "markdown",
   "metadata": {
    "colab_type": "text",
    "id": "9Vpa-UTAk-IP"
   },
   "source": [
    "# Optimizacion Industrial con Computacion Evolutiva\n",
    "<b> Diplomatura de Especialización en Desarrollo de Aplicaciones con Inteligencia Artificial</b>\n",
    "\n",
    "Dr. Edwin Villanueva (ervillanueva@pucp.edu.pe)"
   ]
  },
  {
   "cell_type": "markdown",
   "metadata": {
    "colab_type": "text",
    "id": "dnJCLCtuk-IR"
   },
   "source": [
    "## DESAFIO: Algoritmo Genetico Multiobjetivo NSGA-II aplicado al problema de la mochila\n",
    "\n",
    "El problema de la mochila o \"knapsack problem\" es un tipo de problema de optimización combinatoria. Se puede definir como: dado un conjunto de items, cada uno con un peso y un valor, determinar una colección de articulos cuyo valor total sea lo más grande posible, pero el peso total no sobrepase un límite dado. La presente implementacion aborda este problema como un problema multiobjetivo y se resuelve con el algoritmo NSGA-II. Los objetivos son:\n",
    "\n",
    "-\tMaximizar el valor de la mochila\n",
    "-\tMinimizar el peso de la mochila\n",
    "\n",
    "\n",
    "<b>Responder las preguntas al final del notebook </b>\n",
    "\n",
    "<p><img src=\"https://upload.wikimedia.org/wikipedia/commons/f/fd/Knapsack.svg\">"
   ]
  },
  {
   "cell_type": "markdown",
   "metadata": {},
   "source": [
    "### librerias a usar"
   ]
  },
  {
   "cell_type": "code",
   "execution_count": 28,
   "metadata": {
    "colab": {},
    "colab_type": "code",
    "id": "3kH97z_YEUQp"
   },
   "outputs": [],
   "source": [
    "import sys\n",
    "import time\n",
    "import numpy as np\n",
    "from random import shuffle, random, sample, randint, randrange, uniform\n",
    "from copy import deepcopy\n",
    "import matplotlib.pyplot as plt"
   ]
  },
  {
   "cell_type": "markdown",
   "metadata": {
    "colab_type": "text",
    "id": "krhj7vf_vEe2"
   },
   "source": [
    "### Define el objeto Item en el problema de la mochila\n",
    "Un objeto de clase Item almacena erl valor del item y el peso del item "
   ]
  },
  {
   "cell_type": "code",
   "execution_count": 19,
   "metadata": {
    "colab": {},
    "colab_type": "code",
    "id": "YBuOdwmjvEe5"
   },
   "outputs": [],
   "source": [
    "class Item(object):\n",
    "    def __init__(self, value, weight, latitud, longitud):\n",
    "        self.value  = value  # Valor del item. La suma de los valores de los items es lo que se quiere maximizar\n",
    "        self.weight = weight # Peso del item. Se impone una restriccion en el peso maximo de una mochila\n",
    "        self.latitud = latitud ##latitud de la locacion\n",
    "        self.longitud = longitud ##Longitud de la locacion"
   ]
  },
  {
   "cell_type": "markdown",
   "metadata": {
    "colab_type": "text",
    "id": "MnVcuNVdk-IS"
   },
   "source": [
    "### Define la estructura de un individuo en el AG con sus operadores genéticos \n",
    "\n",
    "Implementa el individuo del AG. Un individuo tiene un cromosoma que es una lista de NUM_ITEMS elementos (genes), cada gen i puede asumir dos posibles alelos: 0 o 1 (no incluir/incluir en la mochila el item i del pool)"
   ]
  },
  {
   "cell_type": "code",
   "execution_count": 3,
   "metadata": {
    "colab": {},
    "colab_type": "code",
    "id": "JjbNgyCdk-IU"
   },
   "outputs": [],
   "source": [
    "class Individual:\n",
    "\n",
    "    def __init__(self, chromosome):  # el constructor recibe un cromosoma\n",
    "        self.chromosome = chromosome[:]  \n",
    "        self.fitness = -1  # -1 indica que el individuo no ha sido evaluado\n",
    "\n",
    "    def crossover_onepoint(self, other):\n",
    "        \"Retorna dos nuevos individuos del cruzamiento de un punto entre individuos self y other \"\n",
    "        c = randrange(len(self.chromosome))\n",
    "        ind1 = Individual(self.chromosome[:c] + other.chromosome[c:])\n",
    "        ind2 = Individual(other.chromosome[:c] + self.chromosome[c:])\n",
    "        return [ind1, ind2]   \n",
    "    \n",
    "    def crossover_uniform(self, other):\n",
    "        chromosome1 = []\n",
    "        chromosome2 = []\n",
    "        \"Retorna dos nuevos individuos del cruzamiento uniforme entre self y other \"\n",
    "        for i in range(len(self.chromosome)):\n",
    "            if uniform(0, 1) < 0.5:\n",
    "                chromosome1.append(self.chromosome[i])\n",
    "                chromosome2.append(other.chromosome[i])\n",
    "            else:\n",
    "                chromosome1.append(other.chromosome[i])\n",
    "                chromosome2.append(self.chromosome[i])\n",
    "        ind1 = Individual(chromosome1)\n",
    "        ind2 = Individual(chromosome2)\n",
    "        return [ind1, ind2] \n",
    "\n",
    "    def mutation_flip(self):\n",
    "        \"Cambia aleatoriamente el alelo de un gen.\"\n",
    "        new_chromosome = deepcopy(self.chromosome)\n",
    "        mutGene = randrange(0,len(new_chromosome))   # escoge un gen para mutar\n",
    "        if new_chromosome[mutGene] == 0:\n",
    "            new_chromosome[mutGene] = 1\n",
    "        else:\n",
    "            new_chromosome[mutGene] = 0\n",
    "        return Individual(new_chromosome)\n"
   ]
  },
  {
   "cell_type": "markdown",
   "metadata": {},
   "source": [
    "## Funcion de distancia entre 2 ubicaciones en KM"
   ]
  },
  {
   "cell_type": "code",
   "execution_count": 5,
   "metadata": {},
   "outputs": [],
   "source": [
    "from math import acos, cos, sin, radians\n",
    "def distancia_puntos(punto_1, punto_2):\n",
    "    punto_1 = (radians(punto_1[0]), radians(punto_1[1]))\n",
    "    punto_2 = (radians(punto_2[0]), radians(punto_2[1]))\n",
    "\n",
    "    distancia = acos(sin(punto_1[0])*sin(punto_2[0]) + cos(punto_1[0])*cos(punto_2[0])*cos(punto_1[1] - punto_2[1]))\n",
    "\n",
    "    return distancia * 6371.01\n",
    "#https://es.wikipedia.org/wiki/F%C3%B3rmula_del_semiverseno"
   ]
  },
  {
   "cell_type": "code",
   "execution_count": 68,
   "metadata": {},
   "outputs": [],
   "source": [
    "import geopy.distance\n",
    "\n",
    "def geoype_distance(ori_x,ori_y,dst_x,dst_y):\n",
    "    origen = (ori_x,ori_y)\n",
    "    destino = (dst_x,dst_y)\n",
    "    return geopy.distance.distance(origen,destino).km\n",
    "\n",
    "def geoype_great_circle(ori_x,ori_y,dst_x,dst_y):\n",
    "    origen = (ori_x,ori_y)\n",
    "    destino = (dst_x,dst_y)\n",
    "    return geopy.distance.great_circle(origen,destino).km"
   ]
  },
  {
   "cell_type": "markdown",
   "metadata": {
    "colab_type": "text",
    "id": "fJsv0S_8k-IZ"
   },
   "source": [
    "### Funcion para obtener los fitnesses de un cromosoma"
   ]
  },
  {
   "cell_type": "code",
   "execution_count": null,
   "metadata": {},
   "outputs": [],
   "source": []
  },
  {
   "cell_type": "code",
   "execution_count": 70,
   "metadata": {
    "colab": {},
    "colab_type": "code",
    "id": "x-OUH07tk-Ic"
   },
   "outputs": [],
   "source": [
    "def get_fitness(chromosome, items, max_weight):\n",
    "    \"\"\"Retorna el fitness del cromosoma pasado. Fitness es el valor total de los items incluidos en el cromosoma\n",
    "       Si el peso total es mayor que max_weight -> el fitness es 1\"\"\"\n",
    "    fitness = np.zeros(2) # 2 objetivos, fitness[0] es valor, fitness[1] es (distancia) \n",
    "    sum_weight = 0\n",
    "    \n",
    "    ##suma de la poblacion 500m\n",
    "    for i in range(len(items)):\n",
    "        if chromosome[i] == 1:  # si item i esta incluido en cromosoma, acumula su valor y peso \n",
    "            fitness[0] += items[i].value\n",
    "            sum_weight += items[i].weight\n",
    "            if  sum_weight > max_weight: # si se paso del peso maximo retorna 1 como fitness\n",
    "                return 1\n",
    "            \n",
    "    ##suma de las distancias\n",
    "    for i in range(len(items)):\n",
    "        for j in range(i+1,len(items)):\n",
    "            if chromosome[i] == 1 and chromosome[j] == 1:  # si item i e item j estan incluido en cromosoma, acumula su distancia \n",
    "                fitness[1] += geoype_distance(items[i].latitud,items[i].longitud,items[j].latitud,items[j].longitud)\n",
    "                #fitness[1] += distancia_puntos((items[i].latitud,items[i].longitud),(items[j].latitud,items[j].longitud))\n",
    "                \n",
    "    return fitness\n"
   ]
  },
  {
   "cell_type": "markdown",
   "metadata": {
    "colab_type": "text",
    "id": "PuScmwjyk-In"
   },
   "source": [
    "### Funcion para inicializar aleatoriamente una población de individuos"
   ]
  },
  {
   "cell_type": "code",
   "execution_count": 42,
   "metadata": {
    "colab": {},
    "colab_type": "code",
    "id": "swoZMGwdk-Io"
   },
   "outputs": [],
   "source": [
    "def init_population(popsize, chromosome_size, countOnes):\n",
    "    \"\"\"Inicializa una poblacion de popsize individuos, cada cromosoma de individuo de tamaño chromosome_size.\n",
    "       cada chromosoma tiene una cantidad fija de 1's \"\"\"\n",
    "    population = []\n",
    "    new_chromosome = [0 for j in range(chromosome_size)]\n",
    "    for i in range(countOnes):\n",
    "        new_chromosome[i] = 1\n",
    "        \n",
    "    for i in range(popsize):\n",
    "        shuffle(new_chromosome)\n",
    "        population.append( Individual(new_chromosome) )\n",
    "    return population"
   ]
  },
  {
   "cell_type": "markdown",
   "metadata": {},
   "source": [
    "<b>  Funcion para mostrar una población y su fitnes  </b> "
   ]
  },
  {
   "cell_type": "code",
   "execution_count": 44,
   "metadata": {},
   "outputs": [],
   "source": [
    "def display(population):\n",
    "    listaAG=[]\n",
    "    for i in range(len(population)):\n",
    "        listaAG.append([population[i].chromosome,population[i].fitness])\n",
    "\n",
    "    data=pd.DataFrame(listaAG)\n",
    "    data.columns = ['Poblacion','fitness']\n",
    "    return data"
   ]
  },
  {
   "cell_type": "markdown",
   "metadata": {
    "colab_type": "text",
    "id": "Xw6sR4v7k-Ii"
   },
   "source": [
    "### Funcion para evaluar una población de individuos "
   ]
  },
  {
   "cell_type": "code",
   "execution_count": 8,
   "metadata": {
    "colab": {},
    "colab_type": "code",
    "id": "Pqtbl-Zlk-Ij"
   },
   "outputs": [],
   "source": [
    "def evaluate_population(population, items, max_weight):\n",
    "    \"\"\" Evalua una poblacion de individuos con la funcion get_fitness \"\"\"\n",
    "    pop_size = len(population)\n",
    "\n",
    "    for i in range(pop_size):\n",
    "        if population[i].fitness == -1:    # evalua solo si el individuo no esta evaluado\n",
    "            population[i].fitness = get_fitness(population[i].chromosome, items, max_weight)"
   ]
  },
  {
   "cell_type": "code",
   "execution_count": 9,
   "metadata": {
    "colab": {},
    "colab_type": "code",
    "id": "wCH6GXmCbqT0"
   },
   "outputs": [],
   "source": [
    "def build_offspring_population(population, crossover, mutation, pmut):     \n",
    "    \"\"\" Construye una poblacion hija con los operadores de cruzamiento y mutacion pasados\n",
    "        crossover:  operador de cruzamiento\n",
    "        mutation:   operador de mutacion\n",
    "        pmut:       taza de mutacion\n",
    "    \"\"\"\n",
    "    pop_size = len(population)\n",
    "    \n",
    "    ## Selecciona parejas de individuos (mating_pool) para cruzamiento \n",
    "    \n",
    "    mating_pool = []\n",
    "    for i in range(int(pop_size/2)): \n",
    "        # escoje dos individuos diferentes aleatoriamente de la poblacion\n",
    "        permut = np.random.permutation( pop_size )\n",
    "        mating_pool.append( (population[permut[0]], population[permut[1]] ) ) \n",
    "        \n",
    "    ## Crea la poblacion descendencia cruzando las parejas del mating pool \n",
    "    offspring_population = []\n",
    "    for i in range(len(mating_pool)): \n",
    "        if crossover == \"onepoint\":\n",
    "            offspring_population.extend( mating_pool[i][0].crossover_onepoint(mating_pool[i][1]) ) # cruzamiento 1 punto\n",
    "        elif crossover == \"uniform\":\n",
    "            offspring_population.extend( mating_pool[i][0].crossover_uniform(mating_pool[i][1]) ) # cruzamiento uniforme\n",
    "        else:\n",
    "            raise NotImplementedError\n",
    "\n",
    "    ## Aplica el operador de mutacion con probabilidad pmut en cada hijo generado\n",
    "    for i in range(len(offspring_population)):\n",
    "        if uniform(0, 1) < pmut: \n",
    "            if mutation == \"flip\":\n",
    "                offspring_population[i] = offspring_population[i].mutation_flip() # cambia el alelo de un gen\n",
    "            else:\n",
    "                raise NotImplementedError   \n",
    "                \n",
    "    return offspring_population"
   ]
  },
  {
   "cell_type": "code",
   "execution_count": 10,
   "metadata": {
    "colab": {},
    "colab_type": "code",
    "id": "fEZpwAA8b3nA"
   },
   "outputs": [],
   "source": [
    "def get_crowding_distances(fitnesses):\n",
    "    \"\"\"\n",
    "    La distancia crowding de un individuo es la diferencia del fitness mas proximo hacia arriba menos el fitness mas proximo \n",
    "    hacia abajo. El valor crowding total es la suma de todas las distancias crowdings para todos los fitness\n",
    "    \"\"\"\n",
    "    \n",
    "    pop_size = len(fitnesses[:, 0])\n",
    "    num_objectives = len(fitnesses[0, :])\n",
    "\n",
    "    # crea matriz crowding. Filas representan individuos, columnas representan objectives\n",
    "    crowding_matrix = np.zeros((pop_size, num_objectives))\n",
    "\n",
    "    # normalisa los fitnesses entre 0 y 1 (ptp es max - min)\n",
    "    normalized_fitnesses = (fitnesses - fitnesses.min(0)) / fitnesses.ptp(0)\n",
    "\n",
    "    for col in range(num_objectives):   # Por cada objective\n",
    "        crowding = np.zeros(pop_size)\n",
    "\n",
    "        # puntos extremos tienen maximo crowding\n",
    "        crowding[0] = 1\n",
    "        crowding[pop_size - 1] = 1\n",
    "\n",
    "        # ordena los fitness normalizados del objectivo actual\n",
    "        sorted_fitnesses = np.sort(normalized_fitnesses[:, col])\n",
    "        sorted_fitnesses_index = np.argsort(normalized_fitnesses[:, col])\n",
    "\n",
    "        # Calcula la distancia crowding de cada individuo como la diferencia de score de los vecinos\n",
    "        crowding[1:pop_size - 1] = (sorted_fitnesses[2:pop_size] - sorted_fitnesses[0:pop_size - 2])\n",
    "\n",
    "        # obtiene el ordenamiento original\n",
    "        re_sort_order = np.argsort(sorted_fitnesses_index)\n",
    "        sorted_crowding = crowding[re_sort_order]\n",
    "\n",
    "        # Salva las distancias crowdingpara el objetivo que se esta iterando\n",
    "        crowding_matrix[:, col] = sorted_crowding\n",
    "\n",
    "    # Obtiene las distancias crowding finales sumando las distancias crowding de cada objetivo \n",
    "    crowding_distances = np.sum(crowding_matrix, axis=1)\n",
    "\n",
    "    return crowding_distances"
   ]
  },
  {
   "cell_type": "code",
   "execution_count": 11,
   "metadata": {
    "colab": {},
    "colab_type": "code",
    "id": "o0FGvhaucWVv"
   },
   "outputs": [],
   "source": [
    "def select_by_crowding(population, num_individuals):\n",
    "    \"\"\"\n",
    "    Selecciona una poblacion de individuos basado en torneos de pares de individuos: dos individuos se escoge al azar\n",
    "    y se selecciona el mejor segun la distancia crowding. Se repite hasta obtener num_individuals individuos\n",
    "    \"\"\"    \n",
    "    population = deepcopy(population)\n",
    "    pop_size = len(population)\n",
    "    \n",
    "    num_objectives = len(population[0].fitness)\n",
    "    \n",
    "    # extrae los fitness de la poblacion en la matriz fitnesses\n",
    "    fitnesses = np.zeros([pop_size, num_objectives])\n",
    "    for i in range(pop_size): fitnesses[i,:] = population[i].fitness\n",
    "        \n",
    "    # obtiene las  distancias  crowding\n",
    "    crowding_distances = get_crowding_distances(fitnesses)   \n",
    "    \n",
    "    population_selected = []   # poblacion escogida\n",
    "\n",
    "    for i in range(num_individuals):  # por cada individuo a seleccionar\n",
    "\n",
    "        # escoje dos individuos aleatoriamente de la poblacion no escogida aun\n",
    "        permut = np.random.permutation( len(population) )\n",
    "        ind1_id = permut[0]\n",
    "        ind2_id = permut[1]\n",
    "\n",
    "        # Si ind1_id es el mejor\n",
    "        if crowding_distances[ind1_id] >= crowding_distances[ind2_id]:\n",
    "\n",
    "            # traslada el individuo ind1 de population a la lista de individuos seleccionados\n",
    "            population_selected.append( population.pop(ind1_id) )\n",
    "            # remueve la distancia crowding del individuo seleccionado\n",
    "            crowding_distances = np.delete(crowding_distances, ind1_id, axis=0)\n",
    "            \n",
    "        else:  # Si ind2_id es el mejor\n",
    "            \n",
    "            # traslada el individuo ind2 de population a la lista de individuos seleccionados\n",
    "            population_selected.append( population.pop(ind2_id) )\n",
    "            # remueve la distancia crowding del individuo seleccionado\n",
    "            crowding_distances = np.delete(crowding_distances, ind2_id, axis=0)\n",
    "\n",
    "    return (population_selected)"
   ]
  },
  {
   "cell_type": "code",
   "execution_count": 12,
   "metadata": {
    "colab": {},
    "colab_type": "code",
    "id": "Rc-FwddlccYR"
   },
   "outputs": [],
   "source": [
    "def get_paretofront_population(population):\n",
    "    \"\"\"\n",
    "    Obtiene de population la poblacion de individups de la frontera de Pareto, \n",
    "    \"\"\"\n",
    "    population = deepcopy(population)\n",
    "    pop_size = len(population)\n",
    "    \n",
    "    # todos los individuos son inicialmente asumidos como la frontera de Pareto\n",
    "    pareto_front = np.ones(pop_size, dtype=bool)\n",
    "    \n",
    "    for i in range(pop_size): # Compara cada individuo contra todos los demas\n",
    "        for j in range(pop_size):\n",
    "            # Chequea si individuo 'i' es dominado por individuo 'j'\n",
    "            #if all(population[j].fitness >= population[i].fitness) and any(population[j].fitness > population[i].fitness):\n",
    "            #if str(all(population[j].fitness >= population[i].fitness)) and str(any(population[j].fitness > population[i].fitness)):\n",
    "            if all(np.asarray(population[j].fitness) >= np.asarray(population[i].fitness)) and any(np.asarray(population[j].fitness) > np.asarray(population[i].fitness)):\n",
    "                # j domina i -> señaliza que individuo 'i' como no siendo parte de la frontera de Pareto\n",
    "                pareto_front[i] = 0\n",
    "                break   # Para la busqueda para 'i' (no es necesario hacer mas comparaciones)\n",
    "\n",
    "    paretofront_population = []\n",
    "    for i in range(pop_size):  # construye la lista de individuos de la frontera de Pareto \n",
    "        if pareto_front[i] == 1: paretofront_population.append(population[i])\n",
    "        \n",
    "    return paretofront_population"
   ]
  },
  {
   "cell_type": "code",
   "execution_count": 13,
   "metadata": {
    "colab": {},
    "colab_type": "code",
    "id": "1stz_XCkcldd"
   },
   "outputs": [],
   "source": [
    "def build_next_population(population, min_pop_size, max_pop_size):\n",
    "    \"\"\"\n",
    "    Construye la poblacion de la siguiente generacion añadiendo sucesivas fronteras de Pareto hasta \n",
    "    tener una poblacion de al menos min_pop_size individuos. Reduce la frontera de Pareto con el metodo de\n",
    "    crowding distance si al agregar la frontera excede el tamaño maximo de la poblacion (max_pop_size)\n",
    "    \"\"\"\n",
    "    population = deepcopy(population)\n",
    "    pareto_front = []\n",
    "    next_population = []\n",
    "    \n",
    "    while len(next_population) < min_pop_size:   # mientras la poblacion no tenga el tamaño minimo\n",
    "        # obtiene la poblacion frontera de Pareto actual\n",
    "        paretofront_population = get_paretofront_population(population)\n",
    "        \n",
    "        # si poblacion actual + paretofront excede el maximo permitido -> reduce paretofront con el metodo de crowding\n",
    "        combined_population_size = len(next_population) + len(paretofront_population)\n",
    "        if  combined_population_size > max_pop_size:\n",
    "            paretofront_population = select_by_crowding( paretofront_population, max_pop_size-len(next_population) ) \n",
    "        \n",
    "        # Adiciona la frontera de Pareto (original o reducida) a la poblacion en construccion\n",
    "        next_population.extend( paretofront_population )\n",
    "    \n",
    "        # remueve de population los individuos que fueron agregados a next_population \n",
    "        for i in range( len(paretofront_population) ):\n",
    "            for j in range( len(population) ):\n",
    "                if all( np.asarray(paretofront_population[i].chromosome) == np.asarray(population[j].chromosome) ):\n",
    "                    del(population[j])\n",
    "                    break\n",
    "                    \n",
    "    return next_population"
   ]
  },
  {
   "cell_type": "markdown",
   "metadata": {
    "colab_type": "text",
    "id": "RvHCciYtdkbW"
   },
   "source": [
    "## Algoritmo genetico multiobjetivo (NSGA-II) principal"
   ]
  },
  {
   "cell_type": "code",
   "execution_count": 18,
   "metadata": {
    "colab": {},
    "colab_type": "code",
    "id": "Psw5mrPcc9Zf"
   },
   "outputs": [],
   "source": [
    "## Hiperparametros del algoritmo genetico\n",
    "#\n",
    "#NUM_ITEMS = 60        # numero de items\n",
    "#\n",
    "#MAX_ITEM_WEIGHT = 60  # maximo peso posible de cada  item\n",
    "#MAX_ITEM_VALUE = 60   # maximo valor posible de cada  item\n",
    "##pool de items generado aleatoriamente\n",
    "#ItemPool = [ Item(randint(1,MAX_ITEM_VALUE), randint(1,MAX_ITEM_WEIGHT)) for x in range (0,NUM_ITEMS)]\n",
    "#MAX_WEIGHT = 10*len(ItemPool)    # maximo peso que puede soportar la mochila\n",
    "#\n",
    "##POP_SIZE = 50\n",
    "#MIN_POP_SIZE = 100\n",
    "#MAX_POP_SIZE = 100\n",
    "#CHROMOSOME_SIZE = NUM_ITEMS\n",
    "#GENERATIONS = 300   # numero de generaciones\n",
    "#PMUT = 0.1         # tasa de mutacion\n"
   ]
  },
  {
   "cell_type": "code",
   "execution_count": 15,
   "metadata": {},
   "outputs": [
    {
     "data": {
      "text/html": [
       "<div>\n",
       "<style scoped>\n",
       "    .dataframe tbody tr th:only-of-type {\n",
       "        vertical-align: middle;\n",
       "    }\n",
       "\n",
       "    .dataframe tbody tr th {\n",
       "        vertical-align: top;\n",
       "    }\n",
       "\n",
       "    .dataframe thead th {\n",
       "        text-align: right;\n",
       "    }\n",
       "</style>\n",
       "<table border=\"1\" class=\"dataframe\">\n",
       "  <thead>\n",
       "    <tr style=\"text-align: right;\">\n",
       "      <th></th>\n",
       "      <th>ID</th>\n",
       "      <th>Descripcion</th>\n",
       "      <th>Latitud</th>\n",
       "      <th>Longitud</th>\n",
       "      <th>Poblacion500m</th>\n",
       "    </tr>\n",
       "  </thead>\n",
       "  <tbody>\n",
       "    <tr>\n",
       "      <th>0</th>\n",
       "      <td>Punto 1</td>\n",
       "      <td>Esq. Benavides con Nicolas Dueñas</td>\n",
       "      <td>-12.04861</td>\n",
       "      <td>-77.06496</td>\n",
       "      <td>16500</td>\n",
       "    </tr>\n",
       "    <tr>\n",
       "      <th>1</th>\n",
       "      <td>Ponto 2</td>\n",
       "      <td>Sta Bernardita con Republica de Venezuela</td>\n",
       "      <td>-12.05956</td>\n",
       "      <td>-77.07583</td>\n",
       "      <td>18000</td>\n",
       "    </tr>\n",
       "    <tr>\n",
       "      <th>2</th>\n",
       "      <td>Ponto 3</td>\n",
       "      <td>Santa Susana con Santa Gertrudis</td>\n",
       "      <td>-12.06524</td>\n",
       "      <td>-77.07334</td>\n",
       "      <td>17000</td>\n",
       "    </tr>\n",
       "    <tr>\n",
       "      <th>3</th>\n",
       "      <td>Ponto 4</td>\n",
       "      <td>Belizario Sosa Pelaez</td>\n",
       "      <td>-12.05998</td>\n",
       "      <td>-77.06300</td>\n",
       "      <td>15000</td>\n",
       "    </tr>\n",
       "    <tr>\n",
       "      <th>4</th>\n",
       "      <td>Ponto 5</td>\n",
       "      <td>Esq. Aurelio Garcia y Miranono Arredondo</td>\n",
       "      <td>-12.05541</td>\n",
       "      <td>-77.07497</td>\n",
       "      <td>17100</td>\n",
       "    </tr>\n",
       "  </tbody>\n",
       "</table>\n",
       "</div>"
      ],
      "text/plain": [
       "        ID                                Descripcion   Latitud  Longitud  \\\n",
       "0  Punto 1          Esq. Benavides con Nicolas Dueñas -12.04861 -77.06496   \n",
       "1  Ponto 2  Sta Bernardita con Republica de Venezuela -12.05956 -77.07583   \n",
       "2  Ponto 3           Santa Susana con Santa Gertrudis -12.06524 -77.07334   \n",
       "3  Ponto 4                      Belizario Sosa Pelaez -12.05998 -77.06300   \n",
       "4  Ponto 5   Esq. Aurelio Garcia y Miranono Arredondo -12.05541 -77.07497   \n",
       "\n",
       "   Poblacion500m  \n",
       "0          16500  \n",
       "1          18000  \n",
       "2          17000  \n",
       "3          15000  \n",
       "4          17100  "
      ]
     },
     "execution_count": 15,
     "metadata": {},
     "output_type": "execute_result"
    }
   ],
   "source": [
    "##LEYENDO LOS DATOS DEL CSV\n",
    "import pandas as pd\n",
    "df = pd.read_excel(\"C:/Users/ReocS/Desktop/galia/optimizacion/Candidatos_supermercados.xlsx\", sheet_name=\"Hoja3\")\n",
    "df.head()"
   ]
  },
  {
   "cell_type": "code",
   "execution_count": 53,
   "metadata": {},
   "outputs": [],
   "source": [
    "##convertiendo en individuos\n",
    "ItemPool = []\n",
    "for i in range(60):\n",
    "    ID = df.iloc[i]['ID']\n",
    "    Descripcion = df.iloc[i]['Descripcion']\n",
    "    Latitud = df.iloc[i]['Latitud']\n",
    "    Longitud = df.iloc[i]['Longitud']\n",
    "    Poblacion500m = df.iloc[i]['Poblacion500m']\n",
    "    \n",
    "    currentItem = Item(Poblacion500m,1,Latitud,Longitud)\n",
    "    ItemPool.append(currentItem)\n",
    "    #print(ID,Descripcion,Latitud,Longitud,Poblacion500m)\n",
    "#ItemPool"
   ]
  },
  {
   "cell_type": "code",
   "execution_count": 54,
   "metadata": {},
   "outputs": [
    {
     "name": "stdout",
     "output_type": "stream",
     "text": [
      "Punto1 16500 -12.04861 -77.06496\n",
      "Punto2 18000 -12.05956 -77.07583\n",
      "Punto3 17000 -12.06524 -77.07334\n",
      "Punto4 15000 -12.05998 -77.063\n",
      "Punto5 17100 -12.05541 -77.07497\n",
      "Punto6 17350 -12.05417 -77.07472\n",
      "Punto7 17300 -12.05349 -77.07362\n",
      "Punto8 17400 -12.05268 -77.07409\n",
      "Punto9 17350 -12.05278 -77.07104\n",
      "Punto10 17400 -12.05301 -77.07735\n",
      "Punto11 16900 -12.04937 -77.07948\n",
      "Punto12 17200 -12.05465 -77.06952\n",
      "Punto13 17300 -12.05486 -77.07655\n",
      "Punto14 17500 -12.05059 -77.07666\n",
      "Punto15 18500 -12.04253 -77.09595\n",
      "Punto16 17100 -12.04817 -77.05867\n",
      "Punto17 16400 -12.04668 -77.0726\n",
      "Punto18 15950 -12.05606 -77.06726\n",
      "Punto19 16800 -12.07258 -77.06884\n",
      "Punto20 16950 -12.07414 -77.0629\n",
      "Punto21 14500 -12.06771 -77.06214\n",
      "Punto22 16400 -12.06921 -77.0593\n",
      "Punto23 17300 -12.07396 -77.051\n",
      "Punto24 17000 -12.075 -77.04631\n",
      "Punto25 14900 -12.09086 -77.05947\n",
      "Punto26 13900 -12.09375 -77.06947\n",
      "Punto27 11500 -12.09602 -77.07398\n",
      "Punto28 2900 -12.02669 -76.88958\n",
      "Punto29 2500 -12.0282 -76.8912\n",
      "Punto30 2000 -12.03267 -76.91418\n",
      "Punto31 3800 -12.03828 -76.9157\n",
      "Punto32 8500 -12.03982 -76.91897\n",
      "Punto33 7500 -12.04117 -76.9186\n",
      "Punto34 6000 -12.0417 -76.9221\n",
      "Punto35 6000 -12.04155 -76.9213\n",
      "Punto36 8600 -12.03882 -76.9238\n",
      "Punto37 8500 -12.03959 -76.92422\n",
      "Punto38 9200 -12.03548 -76.92502\n",
      "Punto39 9900 -12.03766 -76.92863\n",
      "Punto40 9900 -12.03984 -76.92827\n",
      "Punto41 9200 -12.04233 -76.92739\n",
      "Punto42 8700 -12.04328 -76.92851\n",
      "Punto43 7900 -12.04486 -76.92715\n",
      "Punto44 4000 -12.04566 -76.91841\n",
      "Punto45 8600 -12.03895 -76.92025\n",
      "Punto46 16000 -12.12916 -77.02984\n",
      "Punto47 15800 -12.13156 -77.02371\n",
      "Punto48 15600 -12.13222 -77.02358\n",
      "Punto49 18400 -12.1265 -77.02697\n",
      "Punto50 18800 -12.1261 -77.02889\n",
      "Punto51 18300 -12.12603 -77.03129\n",
      "Punto52 14500 -12.12587 -77.03583\n",
      "Punto53 17900 -12.12248 -77.03332\n",
      "Punto54 16950 -12.12326 -77.03639\n",
      "Punto55 17600 -12.12028 -77.03866\n",
      "Punto56 19000 -12.1201 -77.0343\n",
      "Punto57 18600 -12.12532 -77.03135\n",
      "Punto58 18000 -12.12116 -77.02889\n",
      "Punto59 18500 -12.12159 -77.03092\n",
      "Punto60 20000 -12.11685 -77.02991\n"
     ]
    }
   ],
   "source": [
    "#visualizando el pool de items\n",
    "for i in range(len(ItemPool)):\n",
    "    print(\"Punto\"+str(i+1),ItemPool[i].value,ItemPool[i].latitud,ItemPool[i].longitud)"
   ]
  },
  {
   "cell_type": "code",
   "execution_count": 55,
   "metadata": {},
   "outputs": [],
   "source": [
    "NUM_ITEMS = 60        # numero de items\n",
    "MAX_WEIGHT = 10    # maximo peso que puede soportar la mochila"
   ]
  },
  {
   "cell_type": "code",
   "execution_count": 56,
   "metadata": {},
   "outputs": [],
   "source": [
    "## Hiperparametros del algoritmo genetico\n",
    "POPSIZE = 50       # numero de individuos\n",
    "GENERATIONS = 200   # numero de generaciones\n",
    "PMUT = 0.5       # taza de mutacion\n",
    "MIN_POP_SIZE = 100\n",
    "MAX_POP_SIZE = 100\n",
    "CHROMOSOME_SIZE = NUM_ITEMS"
   ]
  },
  {
   "cell_type": "code",
   "execution_count": 71,
   "metadata": {
    "colab": {},
    "colab_type": "code",
    "id": "iVkkyX0zooHu"
   },
   "outputs": [],
   "source": [
    "# Crea  una poblacion inicial\n",
    "poblacion_inicial = init_population( MAX_POP_SIZE, CHROMOSOME_SIZE,10 )  "
   ]
  },
  {
   "cell_type": "code",
   "execution_count": 72,
   "metadata": {},
   "outputs": [
    {
     "data": {
      "text/html": [
       "<div>\n",
       "<style scoped>\n",
       "    .dataframe tbody tr th:only-of-type {\n",
       "        vertical-align: middle;\n",
       "    }\n",
       "\n",
       "    .dataframe tbody tr th {\n",
       "        vertical-align: top;\n",
       "    }\n",
       "\n",
       "    .dataframe thead th {\n",
       "        text-align: right;\n",
       "    }\n",
       "</style>\n",
       "<table border=\"1\" class=\"dataframe\">\n",
       "  <thead>\n",
       "    <tr style=\"text-align: right;\">\n",
       "      <th></th>\n",
       "      <th>Poblacion</th>\n",
       "      <th>fitness</th>\n",
       "    </tr>\n",
       "  </thead>\n",
       "  <tbody>\n",
       "    <tr>\n",
       "      <th>0</th>\n",
       "      <td>[0, 0, 0, 0, 0, 1, 0, 0, 0, 0, 0, 0, 0, 1, 0, ...</td>\n",
       "      <td>-1</td>\n",
       "    </tr>\n",
       "    <tr>\n",
       "      <th>1</th>\n",
       "      <td>[0, 0, 0, 0, 0, 1, 0, 0, 0, 0, 0, 0, 0, 0, 1, ...</td>\n",
       "      <td>-1</td>\n",
       "    </tr>\n",
       "    <tr>\n",
       "      <th>2</th>\n",
       "      <td>[0, 0, 0, 1, 0, 0, 0, 1, 0, 0, 0, 0, 1, 0, 0, ...</td>\n",
       "      <td>-1</td>\n",
       "    </tr>\n",
       "    <tr>\n",
       "      <th>3</th>\n",
       "      <td>[0, 0, 0, 0, 0, 0, 0, 1, 0, 0, 0, 0, 1, 0, 0, ...</td>\n",
       "      <td>-1</td>\n",
       "    </tr>\n",
       "    <tr>\n",
       "      <th>4</th>\n",
       "      <td>[0, 0, 0, 0, 0, 0, 0, 0, 0, 0, 0, 0, 0, 0, 1, ...</td>\n",
       "      <td>-1</td>\n",
       "    </tr>\n",
       "  </tbody>\n",
       "</table>\n",
       "</div>"
      ],
      "text/plain": [
       "                                           Poblacion  fitness\n",
       "0  [0, 0, 0, 0, 0, 1, 0, 0, 0, 0, 0, 0, 0, 1, 0, ...       -1\n",
       "1  [0, 0, 0, 0, 0, 1, 0, 0, 0, 0, 0, 0, 0, 0, 1, ...       -1\n",
       "2  [0, 0, 0, 1, 0, 0, 0, 1, 0, 0, 0, 0, 1, 0, 0, ...       -1\n",
       "3  [0, 0, 0, 0, 0, 0, 0, 1, 0, 0, 0, 0, 1, 0, 0, ...       -1\n",
       "4  [0, 0, 0, 0, 0, 0, 0, 0, 0, 0, 0, 0, 0, 0, 1, ...       -1"
      ]
     },
     "execution_count": 72,
     "metadata": {},
     "output_type": "execute_result"
    }
   ],
   "source": [
    "#visualizamos la población inicial\n",
    "display(poblacion_inicial).head()"
   ]
  },
  {
   "cell_type": "code",
   "execution_count": 73,
   "metadata": {},
   "outputs": [],
   "source": [
    "#si se evalua la población inicial.\n",
    "evaluate_population(poblacion_inicial, ItemPool,10)"
   ]
  },
  {
   "cell_type": "code",
   "execution_count": 75,
   "metadata": {},
   "outputs": [
    {
     "data": {
      "text/html": [
       "<div>\n",
       "<style scoped>\n",
       "    .dataframe tbody tr th:only-of-type {\n",
       "        vertical-align: middle;\n",
       "    }\n",
       "\n",
       "    .dataframe tbody tr th {\n",
       "        vertical-align: top;\n",
       "    }\n",
       "\n",
       "    .dataframe thead th {\n",
       "        text-align: right;\n",
       "    }\n",
       "</style>\n",
       "<table border=\"1\" class=\"dataframe\">\n",
       "  <thead>\n",
       "    <tr style=\"text-align: right;\">\n",
       "      <th></th>\n",
       "      <th>Poblacion</th>\n",
       "      <th>fitness</th>\n",
       "    </tr>\n",
       "  </thead>\n",
       "  <tbody>\n",
       "    <tr>\n",
       "      <th>0</th>\n",
       "      <td>[0, 0, 0, 0, 0, 1, 0, 0, 0, 0, 0, 0, 0, 1, 0, ...</td>\n",
       "      <td>[140300.0, 463.9791466125917]</td>\n",
       "    </tr>\n",
       "    <tr>\n",
       "      <th>1</th>\n",
       "      <td>[0, 0, 0, 0, 0, 1, 0, 0, 0, 0, 0, 0, 0, 0, 1, ...</td>\n",
       "      <td>[144800.0, 456.7574193149374]</td>\n",
       "    </tr>\n",
       "    <tr>\n",
       "      <th>2</th>\n",
       "      <td>[0, 0, 0, 1, 0, 0, 0, 1, 0, 0, 0, 0, 1, 0, 0, ...</td>\n",
       "      <td>[122300.0, 462.9080459742134]</td>\n",
       "    </tr>\n",
       "    <tr>\n",
       "      <th>3</th>\n",
       "      <td>[0, 0, 0, 0, 0, 0, 0, 1, 0, 0, 0, 0, 1, 0, 0, ...</td>\n",
       "      <td>[150500.0, 400.7240398092308]</td>\n",
       "    </tr>\n",
       "    <tr>\n",
       "      <th>4</th>\n",
       "      <td>[0, 0, 0, 0, 0, 0, 0, 0, 0, 0, 0, 0, 0, 0, 1, ...</td>\n",
       "      <td>[123600.0, 492.5082594087458]</td>\n",
       "    </tr>\n",
       "  </tbody>\n",
       "</table>\n",
       "</div>"
      ],
      "text/plain": [
       "                                           Poblacion  \\\n",
       "0  [0, 0, 0, 0, 0, 1, 0, 0, 0, 0, 0, 0, 0, 1, 0, ...   \n",
       "1  [0, 0, 0, 0, 0, 1, 0, 0, 0, 0, 0, 0, 0, 0, 1, ...   \n",
       "2  [0, 0, 0, 1, 0, 0, 0, 1, 0, 0, 0, 0, 1, 0, 0, ...   \n",
       "3  [0, 0, 0, 0, 0, 0, 0, 1, 0, 0, 0, 0, 1, 0, 0, ...   \n",
       "4  [0, 0, 0, 0, 0, 0, 0, 0, 0, 0, 0, 0, 0, 0, 1, ...   \n",
       "\n",
       "                         fitness  \n",
       "0  [140300.0, 463.9791466125917]  \n",
       "1  [144800.0, 456.7574193149374]  \n",
       "2  [122300.0, 462.9080459742134]  \n",
       "3  [150500.0, 400.7240398092308]  \n",
       "4  [123600.0, 492.5082594087458]  "
      ]
     },
     "execution_count": 75,
     "metadata": {},
     "output_type": "execute_result"
    }
   ],
   "source": [
    "display(poblacion_inicial).head()"
   ]
  },
  {
   "cell_type": "code",
   "execution_count": 61,
   "metadata": {},
   "outputs": [],
   "source": [
    "poblacion_inicial = init_population( MAX_POP_SIZE, CHROMOSOME_SIZE,10 )  "
   ]
  },
  {
   "cell_type": "code",
   "execution_count": null,
   "metadata": {},
   "outputs": [],
   "source": []
  },
  {
   "cell_type": "code",
   "execution_count": 62,
   "metadata": {
    "colab": {
     "base_uri": "https://localhost:8080/",
     "height": 585
    },
    "colab_type": "code",
    "executionInfo": {
     "elapsed": 47001,
     "status": "ok",
     "timestamp": 1572371634344,
     "user": {
      "displayName": "Fabrisio Gavonel Hernández",
      "photoUrl": "https://lh3.googleusercontent.com/a-/AAuE7mD7F4BiIRO_e-5t5zgCIrXH6K-H8LNN16vuow0XJg=s64",
      "userId": "02556164892834413200"
     },
     "user_tz": 300
    },
    "id": "kCNZXkfsdsbV",
    "outputId": "c9ffc4f3-b030-463e-9b9f-426d57a974dd"
   },
   "outputs": [
    {
     "name": "stdout",
     "output_type": "stream",
     "text": [
      "Generacion 0 (de 200) \n",
      "Generacion 10 (de 200) \n",
      "Generacion 20 (de 200) \n",
      "Generacion 30 (de 200) \n",
      "Generacion 40 (de 200) \n",
      "Generacion 50 (de 200) \n",
      "Generacion 60 (de 200) \n",
      "Generacion 70 (de 200) \n",
      "Generacion 80 (de 200) \n",
      "Generacion 90 (de 200) \n",
      "Generacion 100 (de 200) \n",
      "Generacion 110 (de 200) \n",
      "Generacion 120 (de 200) \n",
      "Generacion 130 (de 200) \n",
      "Generacion 140 (de 200) \n",
      "Generacion 150 (de 200) \n",
      "Generacion 160 (de 200) \n",
      "Generacion 170 (de 200) \n",
      "Generacion 180 (de 200) \n",
      "Generacion 190 (de 200) \n"
     ]
    }
   ],
   "source": [
    "## CODIGO PRINCIPAL DEL  ALGORITMO GENETICO  NSGA-II\n",
    "\n",
    "P = deepcopy(poblacion_inicial)  # copia la poblacion inicial en una nueva variable para no alterar la poblacion inicial\n",
    "\n",
    "#  evalua la poblacion inicial\n",
    "evaluate_population(P, ItemPool, MAX_WEIGHT)\n",
    "\n",
    "## Ejecuta los ciclos evolutivos \n",
    "for g in range(GENERATIONS):   # Por cada generacion\n",
    "    \n",
    "    if g %10 == 0:\n",
    "        print ('Generacion {} (de {}) '.format(g, GENERATIONS))\n",
    "    \n",
    "    ## genera y evalua la poblacion hija    \n",
    "    Q = build_offspring_population(P, \"uniform\", \"flip\", PMUT)\n",
    "    evaluate_population(Q, ItemPool, MAX_WEIGHT)\n",
    "    \n",
    "    ## une la poblacion padre y la poblacion hija\n",
    "    P.extend(Q) \n",
    "    \n",
    "    ## Construye la poblacion de la siguiente generacion\n",
    "    P = build_next_population(P, MIN_POP_SIZE, MAX_POP_SIZE)\n",
    "\n",
    "# Obtiene la poblacion de la frontera de pareto final \n",
    "pareto_front_population = get_paretofront_population(P)"
   ]
  },
  {
   "cell_type": "code",
   "execution_count": 67,
   "metadata": {
    "colab": {
     "base_uri": "https://localhost:8080/",
     "height": 283
    },
    "colab_type": "code",
    "executionInfo": {
     "elapsed": 1222,
     "status": "ok",
     "timestamp": 1572371644869,
     "user": {
      "displayName": "Fabrisio Gavonel Hernández",
      "photoUrl": "https://lh3.googleusercontent.com/a-/AAuE7mD7F4BiIRO_e-5t5zgCIrXH6K-H8LNN16vuow0XJg=s64",
      "userId": "02556164892834413200"
     },
     "user_tz": 300
    },
    "id": "61WIbdhvd8wj",
    "outputId": "dcb87efd-cbc0-486c-9603-65a67962b102"
   },
   "outputs": [
    {
     "data": {
      "image/png": "[encoded data removed]",
      "text/plain": [
       "<Figure size 432x288 with 1 Axes>"
      ]
     },
     "metadata": {
      "needs_background": "light"
     },
     "output_type": "display_data"
    }
   ],
   "source": [
    "## Plotea los individuos de la frontera de Pareto final\n",
    "pop_size = len(pareto_front_population)\n",
    "num_objectives = len(pareto_front_population[0].fitness)\n",
    "    \n",
    "# extrae los fitness de la poblacion en la matriz fitnesses\n",
    "fitnesses = np.zeros([pop_size, num_objectives])\n",
    "for i in range(pop_size): fitnesses[i,:] = pareto_front_population[i].fitness\n",
    "\n",
    "x = fitnesses[:, 0]\n",
    "y = fitnesses[:, 1]\n",
    "plt.xlabel('Objectivo A - Valor')\n",
    "plt.ylabel('Objectivo B - Distancia')\n",
    "plt.scatter(x,y)\n",
    "#plt.savefig('pareto.png')\n",
    "plt.show()"
   ]
  },
  {
   "cell_type": "code",
   "execution_count": 64,
   "metadata": {},
   "outputs": [
    {
     "data": {
      "text/plain": [
       "100"
      ]
     },
     "execution_count": 64,
     "metadata": {},
     "output_type": "execute_result"
    }
   ],
   "source": [
    "pop_size"
   ]
  },
  {
   "cell_type": "code",
   "execution_count": 65,
   "metadata": {
    "colab": {
     "base_uri": "https://localhost:8080/",
     "height": 105
    },
    "colab_type": "code",
    "executionInfo": {
     "elapsed": 596,
     "status": "ok",
     "timestamp": 1572372088113,
     "user": {
      "displayName": "Fabrisio Gavonel Hernández",
      "photoUrl": "https://lh3.googleusercontent.com/a-/AAuE7mD7F4BiIRO_e-5t5zgCIrXH6K-H8LNN16vuow0XJg=s64",
      "userId": "02556164892834413200"
     },
     "user_tz": 300
    },
    "id": "-DHSwbTWp24w",
    "outputId": "fcbaa0d0-ecac-4a79-b7f7-1308e4cdeb18"
   },
   "outputs": [
    {
     "name": "stdout",
     "output_type": "stream",
     "text": [
      "[135200.            544.71221123]\n",
      "[137100.            540.26649273]\n",
      "[172300.            366.88668034]\n",
      "[144500.            523.89289031]\n",
      "[147000.            513.44651583]\n"
     ]
    }
   ],
   "source": [
    "#Algunos de los valores del pareto front y su fitness:\n",
    "for i in range(5):\n",
    "    b = pareto_front_population[i].fitness\n",
    "    print(b)"
   ]
  },
  {
   "cell_type": "code",
   "execution_count": 66,
   "metadata": {
    "colab": {
     "base_uri": "https://localhost:8080/",
     "height": 125
    },
    "colab_type": "code",
    "executionInfo": {
     "elapsed": 773,
     "status": "ok",
     "timestamp": 1572375933275,
     "user": {
      "displayName": "Fabrisio Gavonel Hernández",
      "photoUrl": "https://lh3.googleusercontent.com/a-/AAuE7mD7F4BiIRO_e-5t5zgCIrXH6K-H8LNN16vuow0XJg=s64",
      "userId": "02556164892834413200"
     },
     "user_tz": 300
    },
    "id": "8G8YE9RRq6DH",
    "outputId": "08d4273c-b1f6-4e21-ba65-4623a4997271"
   },
   "outputs": [
    {
     "name": "stdout",
     "output_type": "stream",
     "text": [
      "[0, 1, 0, 0, 0, 0, 0, 0, 0, 0, 0, 0, 0, 1, 1, 0, 0, 0, 0, 0, 0, 0, 0, 0, 0, 0, 0, 1, 1, 0, 0, 1, 0, 0, 0, 0, 0, 0, 0, 1, 0, 0, 0, 0, 0, 0, 0, 0, 0, 1, 0, 0, 0, 0, 0, 0, 1, 0, 0, 1]\n",
      "[0, 0, 0, 0, 0, 0, 1, 0, 0, 0, 1, 0, 0, 1, 1, 0, 0, 0, 0, 0, 0, 0, 0, 0, 0, 0, 0, 1, 1, 0, 0, 1, 0, 0, 0, 0, 0, 0, 0, 0, 0, 0, 0, 0, 0, 0, 1, 0, 1, 1, 0, 0, 0, 0, 0, 0, 0, 0, 0, 0]\n",
      "[0, 1, 0, 0, 0, 0, 0, 0, 0, 0, 1, 0, 0, 1, 1, 1, 0, 0, 0, 0, 0, 0, 0, 0, 0, 0, 0, 0, 0, 0, 0, 1, 0, 0, 0, 0, 0, 0, 0, 0, 0, 0, 0, 0, 0, 0, 0, 0, 1, 1, 0, 0, 0, 0, 0, 0, 1, 0, 0, 1]\n",
      "[0, 1, 0, 0, 0, 0, 0, 0, 0, 0, 1, 0, 0, 0, 1, 0, 0, 0, 0, 0, 0, 0, 0, 0, 0, 0, 0, 1, 1, 0, 0, 0, 0, 0, 0, 0, 0, 0, 0, 1, 0, 0, 0, 0, 0, 0, 0, 0, 1, 1, 0, 0, 0, 0, 0, 0, 1, 0, 0, 1]\n",
      "[0, 1, 0, 0, 0, 0, 0, 0, 0, 0, 1, 0, 0, 1, 1, 0, 0, 0, 0, 0, 0, 0, 0, 0, 0, 0, 0, 1, 0, 0, 0, 1, 0, 0, 0, 0, 0, 1, 0, 0, 0, 0, 0, 0, 0, 0, 0, 0, 1, 1, 1, 0, 0, 0, 0, 0, 0, 0, 0, 0]\n"
     ]
    }
   ],
   "source": [
    "#Imprime 5 soluciones de la frontera:\n",
    "for i in range(5):\n",
    "    a = pareto_front_population[i].chromosome\n",
    "    print(a)\n",
    "  "
   ]
  },
  {
   "cell_type": "markdown",
   "metadata": {},
   "source": [
    "# Preguntas:"
   ]
  },
  {
   "cell_type": "markdown",
   "metadata": {},
   "source": [
    "<b> 1) Realize un experimento (puede realizar varios) con NSGA-2 y el algoritmo mono-objetivo de la mochila. Use los siguientes parametros:    </b>\n",
    "\n",
    "NUM_ITEMS = 60        \n",
    "MAX_ITEM_WEIGHT = 60  \n",
    "MAX_ITEM_VALUE = 60   \n",
    "MAX_WEIGHT = 10*len(ItemPool)    \n",
    "MIN_POP_SIZE = 50\n",
    "MAX_POP_SIZE = 50\n",
    "GENERATIONS = 300   # numero de generaciones\n",
    "\n",
    "En el experimento pre-genere el mismo ItemPool para ambos algoritmos. Escoja los operadores de cruzamiento, mutacion y tasa de mutacion de acuerdo a los mejores resultados que obtuvo en la Pregunta 3 del Desafio \"ProblemaMochila_Desafio\". Al final de las ejecuciones, plotee el mejor individuo encontrado por el AG monoobjetivo como un punto en el plot de Pareto. Interprete el resultado en relacion a si la solucion monoobjetivo está en la frontera o es dominada por esta y si hay algun favorecimiento para alguno de los objetivos.  Qué diferencia substancial encuentra entre los dos enfoques?       \n"
   ]
  },
  {
   "cell_type": "code",
   "execution_count": null,
   "metadata": {},
   "outputs": [],
   "source": []
  }
 ],
 "metadata": {
  "accelerator": "GPU",
  "colab": {
   "collapsed_sections": [],
   "name": "Practica3-Desafío mochila multiobjetivo_Fabrisio Gavonel.ipynb",
   "provenance": [
    {
     "file_id": "1CK7sj1xd50glDvSS5YfXm-f-eJ9RU29-",
     "timestamp": 1572040783638
    },
    {
     "file_id": "https://github.com/iapucp/IA-Diplomado/blob/master/Optimizacion%20Industrial%20con%20Computacion%20Evolutiva/Sesion3/notebooks/ProblemaMochila(desafio).ipynb",
     "timestamp": 1571450297960
    }
   ]
  },
  "kernelspec": {
   "display_name": "Python 3",
   "language": "python",
   "name": "python3"
  },
  "language_info": {
   "codemirror_mode": {
    "name": "ipython",
    "version": 3
   },
   "file_extension": ".py",
   "mimetype": "text/x-python",
   "name": "python",
   "nbconvert_exporter": "python",
   "pygments_lexer": "ipython3",
   "version": "3.7.6"
  }
 },
 "nbformat": 4,
 "nbformat_minor": 4
}
